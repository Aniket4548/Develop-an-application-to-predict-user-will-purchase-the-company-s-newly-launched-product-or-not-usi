{
 "cells": [
  {
   "cell_type": "markdown",
   "id": "68413e82",
   "metadata": {},
   "source": [
    "# Practical 11"
   ]
  },
  {
   "cell_type": "markdown",
   "id": "73101e08",
   "metadata": {},
   "source": [
    "# Develop an application to predict user will purchase the company's newly launched product or not using logistic regression classifier."
   ]
  },
  {
   "cell_type": "code",
   "execution_count": 3,
   "id": "258ef04b",
   "metadata": {},
   "outputs": [],
   "source": [
    "# Importing the libraries.\n",
    "import pandas as pd\n",
    "import numpy as np\n",
    "import matplotlib.pyplot as plt\n",
    "import seaborn as sns"
   ]
  },
  {
   "cell_type": "code",
   "execution_count": 4,
   "id": "cfcd61cc",
   "metadata": {},
   "outputs": [
    {
     "data": {
      "text/html": [
       "<div>\n",
       "<style scoped>\n",
       "    .dataframe tbody tr th:only-of-type {\n",
       "        vertical-align: middle;\n",
       "    }\n",
       "\n",
       "    .dataframe tbody tr th {\n",
       "        vertical-align: top;\n",
       "    }\n",
       "\n",
       "    .dataframe thead th {\n",
       "        text-align: right;\n",
       "    }\n",
       "</style>\n",
       "<table border=\"1\" class=\"dataframe\">\n",
       "  <thead>\n",
       "    <tr style=\"text-align: right;\">\n",
       "      <th></th>\n",
       "      <th>User ID</th>\n",
       "      <th>Gender</th>\n",
       "      <th>Age</th>\n",
       "      <th>EstimatedSalary</th>\n",
       "      <th>Purchased</th>\n",
       "    </tr>\n",
       "  </thead>\n",
       "  <tbody>\n",
       "    <tr>\n",
       "      <th>0</th>\n",
       "      <td>15624510</td>\n",
       "      <td>Male</td>\n",
       "      <td>19</td>\n",
       "      <td>19000</td>\n",
       "      <td>0</td>\n",
       "    </tr>\n",
       "    <tr>\n",
       "      <th>1</th>\n",
       "      <td>15810944</td>\n",
       "      <td>Male</td>\n",
       "      <td>35</td>\n",
       "      <td>20000</td>\n",
       "      <td>0</td>\n",
       "    </tr>\n",
       "    <tr>\n",
       "      <th>2</th>\n",
       "      <td>15668575</td>\n",
       "      <td>Female</td>\n",
       "      <td>26</td>\n",
       "      <td>43000</td>\n",
       "      <td>0</td>\n",
       "    </tr>\n",
       "    <tr>\n",
       "      <th>3</th>\n",
       "      <td>15603246</td>\n",
       "      <td>Female</td>\n",
       "      <td>27</td>\n",
       "      <td>57000</td>\n",
       "      <td>0</td>\n",
       "    </tr>\n",
       "    <tr>\n",
       "      <th>4</th>\n",
       "      <td>15804002</td>\n",
       "      <td>Male</td>\n",
       "      <td>19</td>\n",
       "      <td>76000</td>\n",
       "      <td>0</td>\n",
       "    </tr>\n",
       "    <tr>\n",
       "      <th>...</th>\n",
       "      <td>...</td>\n",
       "      <td>...</td>\n",
       "      <td>...</td>\n",
       "      <td>...</td>\n",
       "      <td>...</td>\n",
       "    </tr>\n",
       "    <tr>\n",
       "      <th>395</th>\n",
       "      <td>15691863</td>\n",
       "      <td>Female</td>\n",
       "      <td>46</td>\n",
       "      <td>41000</td>\n",
       "      <td>1</td>\n",
       "    </tr>\n",
       "    <tr>\n",
       "      <th>396</th>\n",
       "      <td>15706071</td>\n",
       "      <td>Male</td>\n",
       "      <td>51</td>\n",
       "      <td>23000</td>\n",
       "      <td>1</td>\n",
       "    </tr>\n",
       "    <tr>\n",
       "      <th>397</th>\n",
       "      <td>15654296</td>\n",
       "      <td>Female</td>\n",
       "      <td>50</td>\n",
       "      <td>20000</td>\n",
       "      <td>1</td>\n",
       "    </tr>\n",
       "    <tr>\n",
       "      <th>398</th>\n",
       "      <td>15755018</td>\n",
       "      <td>Male</td>\n",
       "      <td>36</td>\n",
       "      <td>33000</td>\n",
       "      <td>0</td>\n",
       "    </tr>\n",
       "    <tr>\n",
       "      <th>399</th>\n",
       "      <td>15594041</td>\n",
       "      <td>Female</td>\n",
       "      <td>49</td>\n",
       "      <td>36000</td>\n",
       "      <td>1</td>\n",
       "    </tr>\n",
       "  </tbody>\n",
       "</table>\n",
       "<p>400 rows × 5 columns</p>\n",
       "</div>"
      ],
      "text/plain": [
       "      User ID  Gender  Age  EstimatedSalary  Purchased\n",
       "0    15624510    Male   19            19000          0\n",
       "1    15810944    Male   35            20000          0\n",
       "2    15668575  Female   26            43000          0\n",
       "3    15603246  Female   27            57000          0\n",
       "4    15804002    Male   19            76000          0\n",
       "..        ...     ...  ...              ...        ...\n",
       "395  15691863  Female   46            41000          1\n",
       "396  15706071    Male   51            23000          1\n",
       "397  15654296  Female   50            20000          1\n",
       "398  15755018    Male   36            33000          0\n",
       "399  15594041  Female   49            36000          1\n",
       "\n",
       "[400 rows x 5 columns]"
      ]
     },
     "execution_count": 4,
     "metadata": {},
     "output_type": "execute_result"
    }
   ],
   "source": [
    "data= pd.read_csv(\"D:/Machine Learning/User_Data.csv\")  #Importing the dataset.\n",
    "data"
   ]
  },
  {
   "cell_type": "code",
   "execution_count": 5,
   "id": "a0fedb6d",
   "metadata": {},
   "outputs": [],
   "source": [
    "# Problem Statement\n",
    "# To make the Logistic Regression model predicting wether a user will purchase the product or not"
   ]
  },
  {
   "cell_type": "code",
   "execution_count": 6,
   "id": "1199536a",
   "metadata": {},
   "outputs": [],
   "source": [
    "# Input\n",
    "x = data.iloc[:,[2,3]].values\n",
    "#Output\n",
    "y = data.iloc[:,4].values"
   ]
  },
  {
   "cell_type": "code",
   "execution_count": 7,
   "id": "4dfb50fe",
   "metadata": {},
   "outputs": [
    {
     "data": {
      "image/png": "[encoded data removed]",
      "text/plain": [
       "<Figure size 640x480 with 2 Axes>"
      ]
     },
     "metadata": {},
     "output_type": "display_data"
    }
   ],
   "source": [
    "sns.heatmap(data.corr(),annot = True) #pearson correlation\n",
    "plt.show()"
   ]
  },
  {
   "cell_type": "code",
   "execution_count": 8,
   "id": "5726f9b7",
   "metadata": {},
   "outputs": [],
   "source": [
    "# Splitting the data to train and test\n",
    "#75% train data\n",
    "#25% test data"
   ]
  },
  {
   "cell_type": "code",
   "execution_count": 9,
   "id": "769f45e0",
   "metadata": {},
   "outputs": [],
   "source": [
    "from sklearn.model_selection import train_test_split\n",
    "xtrain, xtest, ytrain, ytest = train_test_split(x, y, test_size = 0.25 , random_state = 2 )"
   ]
  },
  {
   "cell_type": "code",
   "execution_count": 10,
   "id": "80de4fc3",
   "metadata": {
    "scrolled": true
   },
   "outputs": [
    {
     "name": "stdout",
     "output_type": "stream",
     "text": [
      "[[ 0.03172569  0.06201266]\n",
      " [-0.06539376 -0.50084108]\n",
      " [-0.64811043 -1.50805304]\n",
      " [ 0.03172569  0.32862759]\n",
      " [ 0.32308402  0.09163654]\n",
      " [-0.45387154 -1.12294258]\n",
      " [-0.74522987 -1.53767692]\n",
      " [-0.25963265 -0.64896049]\n",
      " [-1.13370765  0.50637087]\n",
      " [-0.06539376  2.22455597]\n",
      " [ 0.03172569  0.06201266]\n",
      " [-1.13370765 -1.5673008 ]\n",
      " [ 1.10003958  0.56561863]\n",
      " [-0.25963265 -1.24143811]\n",
      " [ 1.39139791 -0.91557542]\n",
      " [-1.42506599 -1.21181423]\n",
      " [-0.93946876 -0.9451993 ]\n",
      " [ 1.97411458 -0.64896049]\n",
      " [ 0.90580069 -0.56008884]\n",
      " [-1.13370765  0.32862759]\n",
      " [ 0.03172569 -0.23422615]\n",
      " [ 0.80868124 -1.38955751]\n",
      " [-0.25963265 -0.35272168]\n",
      " [ 0.90580069  1.30621566]\n",
      " [ 0.32308402 -0.17497839]\n",
      " [-0.25963265 -0.56008884]\n",
      " [-0.25963265 -1.38955751]\n",
      " [ 1.48851736 -1.03407094]\n",
      " [-0.06539376  0.1508843 ]\n",
      " [-0.84234932 -0.64896049]\n",
      " [-0.06539376  0.03238878]\n",
      " [-0.25963265  0.12126042]\n",
      " [ 0.22596457 -0.29347391]\n",
      " [-0.25963265  0.29900371]\n",
      " [ 0.12884513  0.06201266]\n",
      " [ 1.97411458  2.22455597]\n",
      " [-1.03658821 -1.44880527]\n",
      " [ 0.32308402  0.32862759]\n",
      " [ 2.07123403 -1.18219034]\n",
      " [-1.13370765 -0.50084108]\n",
      " [ 0.22596457  0.18050818]\n",
      " [-0.25963265 -0.91557542]\n",
      " [-0.64811043  0.06201266]\n",
      " [ 0.22596457  0.09163654]\n",
      " [ 0.42020346 -0.11573063]\n",
      " [-1.13370765 -1.0933187 ]\n",
      " [-0.06539376  2.28380373]\n",
      " [ 1.10003958 -0.11573063]\n",
      " [ 0.90580069  1.06922461]\n",
      " [-0.06539376  0.29900371]\n",
      " [-0.55099098 -1.50805304]\n",
      " [-1.13370765 -1.00444706]\n",
      " [-0.74522987  1.3950873 ]\n",
      " [ 1.10003958  0.59524252]\n",
      " [ 1.5856368  -1.27106199]\n",
      " [ 0.7115618  -1.38955751]\n",
      " [-0.64811043 -1.03407094]\n",
      " [ 1.19715902  0.56561863]\n",
      " [-0.25963265 -1.44880527]\n",
      " [-1.61930488  0.56561863]\n",
      " [-1.03658821 -1.12294258]\n",
      " [-0.06539376  0.06201266]\n",
      " [ 0.32308402  0.09163654]\n",
      " [ 0.90580069 -1.35993363]\n",
      " [-1.03658821 -0.3230978 ]\n",
      " [-1.81354377  0.21013206]\n",
      " [-1.81354377 -1.41918139]\n",
      " [ 0.7115618   1.83944552]\n",
      " [-0.06539376  0.32862759]\n",
      " [-1.61930488  0.09163654]\n",
      " [-0.64811043  1.45433506]\n",
      " [-0.25963265 -0.23422615]\n",
      " [-0.35675209  1.36546342]\n",
      " [ 0.51732291  1.27659178]\n",
      " [-0.64811043  0.21013206]\n",
      " [-1.52218543 -0.41196944]\n",
      " [-1.03658821  0.44712311]\n",
      " [ 0.80868124  0.29900371]\n",
      " [ 1.97411458 -0.91557542]\n",
      " [ 0.80868124 -0.29347391]\n",
      " [ 0.22596457  0.26937982]\n",
      " [-1.71642432 -0.58971272]\n",
      " [-0.25963265  0.18050818]\n",
      " [-1.32794654 -1.24143811]\n",
      " [-0.25963265 -0.41196944]\n",
      " [ 0.12884513  0.12126042]\n",
      " [-0.93946876  0.47674699]\n",
      " [ 2.07123403  0.41749923]\n",
      " [-1.91066321  0.38787535]\n",
      " [ 2.07123403 -0.79707989]\n",
      " [ 2.16835347  1.15809625]\n",
      " [ 0.80868124 -1.21181423]\n",
      " [ 0.42020346 -0.44159332]\n",
      " [ 0.03172569 -0.23422615]\n",
      " [ 1.48851736  0.38787535]\n",
      " [-0.1625132  -0.56008884]\n",
      " [ 0.22596457 -0.23422615]\n",
      " [-0.45387154  2.37267538]\n",
      " [ 0.12884513  0.23975594]\n",
      " [ 0.22596457 -0.64896049]\n",
      " [ 1.00292013 -1.06369482]\n",
      " [-0.1625132   0.18050818]\n",
      " [-0.06539376  0.32862759]\n",
      " [ 0.42020346 -0.4712172 ]\n",
      " [-0.35675209 -1.30068587]\n",
      " [ 0.90580069 -0.76745601]\n",
      " [-0.93946876  0.44712311]\n",
      " [-0.06539376 -0.41196944]\n",
      " [-0.93946876 -0.41196944]\n",
      " [-1.81354377  0.47674699]\n",
      " [-0.84234932 -1.21181423]\n",
      " [-0.93946876 -0.29347391]\n",
      " [ 1.00292013  0.80260968]\n",
      " [-1.61930488 -0.02685899]\n",
      " [-1.03658821 -0.3230978 ]\n",
      " [ 0.03172569 -0.53046496]\n",
      " [-0.64811043 -0.3230978 ]\n",
      " [-1.13370765 -1.53767692]\n",
      " [ 1.97411458 -1.35993363]\n",
      " [-0.64811043 -1.59692468]\n",
      " [ 0.22596457 -0.35272168]\n",
      " [ 0.90580069  2.22455597]\n",
      " [ 1.19715902 -0.97482318]\n",
      " [-0.1625132  -0.50084108]\n",
      " [ 1.68275625  1.80982164]\n",
      " [ 1.10003958 -1.21181423]\n",
      " [ 0.03172569  1.30621566]\n",
      " [-0.45387154 -0.26385003]\n",
      " [ 1.68275625 -0.88595153]\n",
      " [ 0.32308402  0.53599475]\n",
      " [-1.03658821 -1.53767692]\n",
      " [ 1.5856368   1.15809625]\n",
      " [-1.52218543  0.35825147]\n",
      " [ 0.03172569 -0.11573063]\n",
      " [ 0.12884513 -0.79707989]\n",
      " [ 0.22596457  1.12847237]\n",
      " [ 0.42020346 -0.14535451]\n",
      " [-0.45387154  0.0027649 ]\n",
      " [ 1.10003958  2.13568433]\n",
      " [-0.25963265 -0.11573063]\n",
      " [-0.74522987 -0.58971272]\n",
      " [ 1.19715902 -1.44880527]\n",
      " [-1.42506599 -1.44880527]\n",
      " [ 1.87699514 -0.26385003]\n",
      " [ 1.87699514  0.1508843 ]\n",
      " [ 0.42020346  0.18050818]\n",
      " [ 1.29427847 -1.35993363]\n",
      " [-0.45387154 -1.21181423]\n",
      " [-0.74522987  1.95794104]\n",
      " [-0.25963265  1.15809625]\n",
      " [ 0.03172569 -0.56008884]\n",
      " [ 0.22596457 -0.11573063]\n",
      " [-0.55099098  1.95794104]\n",
      " [-0.93946876  0.29900371]\n",
      " [-1.91066321  0.50637087]\n",
      " [-1.32794654  0.59524252]\n",
      " [ 0.22596457  0.18050818]\n",
      " [ 1.39139791 -1.41918139]\n",
      " [-0.06539376  0.71373804]\n",
      " [ 0.12884513  1.92831716]\n",
      " [-1.71642432 -0.97482318]\n",
      " [ 0.22596457 -0.35272168]\n",
      " [-1.81354377 -1.30068587]\n",
      " [ 0.80868124  0.56561863]\n",
      " [-0.1625132   1.45433506]\n",
      " [-1.03658821  0.59524252]\n",
      " [-1.2308271  -1.06369482]\n",
      " [ 1.39139791  2.04681268]\n",
      " [ 0.80868124 -1.0933187 ]\n",
      " [ 0.80868124  0.1508843 ]\n",
      " [-1.81354377 -1.27106199]\n",
      " [ 0.03172569  1.27659178]\n",
      " [ 0.90580069 -0.58971272]\n",
      " [ 2.16835347  0.41749923]\n",
      " [ 2.16835347 -0.79707989]\n",
      " [ 1.00292013 -1.06369482]\n",
      " [ 0.12884513  1.57283059]\n",
      " [-0.93946876  0.53599475]\n",
      " [-1.2308271   0.29900371]\n",
      " [ 0.42020346  0.6248664 ]\n",
      " [ 0.12884513  0.18050818]\n",
      " [ 0.22596457  0.06201266]\n",
      " [ 2.07123403  2.19493209]\n",
      " [-0.06539376 -0.35272168]\n",
      " [-0.25963265  0.83223356]\n",
      " [-1.42506599 -0.17497839]\n",
      " [ 1.10003958  0.1508843 ]\n",
      " [ 0.32308402  0.09163654]\n",
      " [ 0.12884513  0.06201266]\n",
      " [ 1.00292013 -1.00444706]\n",
      " [-0.55099098  1.51358283]\n",
      " [-1.13370765 -1.59692468]\n",
      " [ 1.29427847  2.28380373]\n",
      " [-1.42506599 -0.08610675]\n",
      " [-1.81354377 -1.47842915]\n",
      " [ 0.90580069 -1.15256646]\n",
      " [ 2.16835347 -0.67858437]\n",
      " [ 0.61444235 -0.88595153]\n",
      " [-1.2308271  -1.38955751]\n",
      " [-0.45387154 -0.82670377]\n",
      " [-0.84234932 -0.23422615]\n",
      " [ 1.48851736  2.19493209]\n",
      " [ 0.42020346  1.03960073]\n",
      " [ 0.03172569 -0.41196944]\n",
      " [-1.13370765 -1.15256646]\n",
      " [-0.74522987  0.59524252]\n",
      " [ 0.12884513  1.09884849]\n",
      " [-0.55099098  1.42471118]\n",
      " [ 0.12884513  1.92831716]\n",
      " [ 0.22596457  2.16530821]\n",
      " [ 1.48851736  1.03960073]\n",
      " [-1.71642432  0.1508843 ]\n",
      " [-0.25963265 -0.4712172 ]\n",
      " [ 0.12884513  0.80260968]\n",
      " [ 0.90580069 -1.30068587]\n",
      " [-0.25963265 -0.26385003]\n",
      " [ 2.16835347 -1.03407094]\n",
      " [ 0.42020346  0.32862759]\n",
      " [-0.1625132   1.66170223]\n",
      " [ 0.80868124 -0.82670377]\n",
      " [-0.93946876  1.60245447]\n",
      " [ 0.12884513 -0.23422615]\n",
      " [-1.2308271   0.53599475]\n",
      " [ 0.12884513 -0.79707989]\n",
      " [ 1.10003958 -0.97482318]\n",
      " [ 1.00292013  1.83944552]\n",
      " [-1.42506599 -0.61933661]\n",
      " [ 1.00292013 -1.18219034]\n",
      " [-1.32794654 -0.41196944]\n",
      " [ 0.32308402  0.09163654]\n",
      " [-0.25963265 -0.56008884]\n",
      " [-0.74522987  1.12847237]\n",
      " [ 1.5856368   1.03960073]\n",
      " [-1.03658821  0.6248664 ]\n",
      " [ 0.42020346  0.12126042]\n",
      " [-0.93946876 -0.29347391]\n",
      " [ 1.19715902 -0.73783213]\n",
      " [-1.91066321 -0.50084108]\n",
      " [ 1.10003958 -1.21181423]\n",
      " [ 0.32308402  0.29900371]\n",
      " [-0.74522987 -1.59692468]\n",
      " [-0.25963265 -1.30068587]\n",
      " [-0.25963265  0.56561863]\n",
      " [ 1.00292013  1.92831716]\n",
      " [-0.64811043 -0.08610675]\n",
      " [-0.45387154  1.30621566]\n",
      " [ 0.32308402 -0.50084108]\n",
      " [ 1.87699514  1.57283059]\n",
      " [ 1.10003958  0.50637087]\n",
      " [ 2.07123403  0.21013206]\n",
      " [-1.71642432  0.38787535]\n",
      " [-0.1625132  -0.17497839]\n",
      " [-0.64811043  0.59524252]\n",
      " [ 1.39139791  1.33583954]\n",
      " [ 1.10003958 -0.88595153]\n",
      " [ 1.87699514 -1.06369482]\n",
      " [-0.74522987  0.53599475]\n",
      " [-1.32794654 -1.0933187 ]\n",
      " [ 0.80868124  0.38787535]\n",
      " [-0.84234932  0.41749923]\n",
      " [-0.74522987  0.32862759]\n",
      " [-1.03658821  2.0171888 ]\n",
      " [-0.06539376  0.09163654]\n",
      " [ 1.39139791  2.40229926]\n",
      " [-0.06539376  0.18050818]\n",
      " [-0.06539376  2.0171888 ]\n",
      " [-0.74522987  0.29900371]\n",
      " [-1.13370765  0.35825147]\n",
      " [ 0.32308402 -0.26385003]\n",
      " [ 1.00292013 -1.15256646]\n",
      " [ 1.39139791  0.6248664 ]\n",
      " [-1.52218543 -1.50805304]\n",
      " [-0.93946876 -0.73783213]\n",
      " [-1.13370765  0.09163654]\n",
      " [ 0.42020346 -0.44159332]\n",
      " [-1.91066321 -0.73783213]\n",
      " [ 0.42020346  0.29900371]\n",
      " [-0.25963265  0.23975594]\n",
      " [-0.55099098  0.50637087]\n",
      " [-0.35675209 -0.76745601]\n",
      " [-0.25963265  0.06201266]\n",
      " [-0.06539376  0.23975594]\n",
      " [-0.25963265  0.18050818]\n",
      " [ 0.32308402 -0.53046496]\n",
      " [ 0.80868124  0.80260968]\n",
      " [ 1.00292013  2.04681268]\n",
      " [-0.1625132  -0.26385003]\n",
      " [-1.03658821 -0.44159332]\n",
      " [-0.25963265 -0.3230978 ]\n",
      " [ 0.12884513 -0.29347391]\n",
      " [-0.25963265 -0.73783213]\n",
      " [-0.06539376 -1.06369482]\n",
      " [-0.25963265  0.09163654]\n",
      " [ 0.51732291  1.78019776]\n",
      " [-0.35675209  1.27659178]\n",
      " [ 0.80868124  1.42471118]\n",
      " [ 1.00292013 -0.82670377]\n",
      " [-1.71642432 -1.35993363]\n",
      " [-0.84234932  0.32862759]\n",
      " [-0.84234932  2.34305149]]\n"
     ]
    }
   ],
   "source": [
    "from sklearn.preprocessing import StandardScaler  # scaling\n",
    "sc_x = StandardScaler()\n",
    "xtrain = sc_x.fit_transform(xtrain)\n",
    "xtest = sc_x.transform(xtest)\n",
    "print(xtrain)"
   ]
  },
  {
   "cell_type": "code",
   "execution_count": 11,
   "id": "4076f5c5",
   "metadata": {},
   "outputs": [
    {
     "data": {
      "text/plain": [
       "LogisticRegression(random_state=2)"
      ]
     },
     "execution_count": 11,
     "metadata": {},
     "output_type": "execute_result"
    }
   ],
   "source": [
    "from sklearn.linear_model import LogisticRegression # Applying regression to training data.\n",
    "classifier = LogisticRegression(random_state = 2)\n",
    "classifier.fit(xtrain, ytrain)"
   ]
  },
  {
   "cell_type": "code",
   "execution_count": 12,
   "id": "7da2bde4",
   "metadata": {},
   "outputs": [],
   "source": [
    "y_pred = classifier.predict(xtest)"
   ]
  },
  {
   "cell_type": "code",
   "execution_count": 13,
   "id": "ce06db66",
   "metadata": {},
   "outputs": [
    {
     "name": "stdout",
     "output_type": "stream",
     "text": [
      "Confusion Matrix : \n",
      " [[56  6]\n",
      " [13 25]]\n"
     ]
    }
   ],
   "source": [
    "# Confusion Matrix\n",
    "from sklearn.metrics import confusion_matrix\n",
    "cm = confusion_matrix(ytest, y_pred)\n",
    "print(\"Confusion Matrix : \\n\" , cm)"
   ]
  },
  {
   "cell_type": "code",
   "execution_count": 14,
   "id": "499851dd",
   "metadata": {
    "scrolled": false
   },
   "outputs": [
    {
     "data": {
      "image/png": "[encoded data removed]",
      "text/plain": [
       "<Figure size 640x480 with 2 Axes>"
      ]
     },
     "metadata": {},
     "output_type": "display_data"
    }
   ],
   "source": [
    "sns.heatmap(cm, annot = True)  # Creating heatmap between actual welding and predicted value Also known as confusion matrix\n",
    "plt.ylabel('Actual Value')\n",
    "plt.xlabel('Predicted Value')\n",
    "plt.show()"
   ]
  },
  {
   "cell_type": "code",
   "execution_count": 15,
   "id": "cfd7842d",
   "metadata": {},
   "outputs": [
    {
     "name": "stdout",
     "output_type": "stream",
     "text": [
      "Accuracy:  0.81\n",
      "Precision:  0.8064516129032258\n",
      "Recall:  0.6578947368421053\n"
     ]
    }
   ],
   "source": [
    "import sklearn.metrics as metrics  # Finding accuracy precision and recall.\n",
    "print ('Accuracy: ', metrics.accuracy_score(ytest,y_pred))\n",
    "print ('Precision: ', metrics.precision_score(ytest,y_pred))\n",
    "print ('Recall: ', metrics.recall_score(ytest,y_pred))"
   ]
  },
  {
   "cell_type": "code",
   "execution_count": 16,
   "id": "6587c670",
   "metadata": {},
   "outputs": [
    {
     "name": "stdout",
     "output_type": "stream",
     "text": [
      "              precision    recall  f1-score   support\n",
      "\n",
      "           0       0.81      0.90      0.85        62\n",
      "           1       0.81      0.66      0.72        38\n",
      "\n",
      "    accuracy                           0.81       100\n",
      "   macro avg       0.81      0.78      0.79       100\n",
      "weighted avg       0.81      0.81      0.81       100\n",
      "\n"
     ]
    }
   ],
   "source": [
    "from sklearn.metrics import classification_report\n",
    "print(classification_report(ytest,y_pred))"
   ]
  },
  {
   "cell_type": "code",
   "execution_count": 17,
   "id": "a6c50111",
   "metadata": {},
   "outputs": [
    {
     "data": {
      "text/plain": [
       "<matplotlib.collections.PathCollection at 0x22a8f488b50>"
      ]
     },
     "execution_count": 17,
     "metadata": {},
     "output_type": "execute_result"
    },
    {
     "data": {
      "image/png": "[encoded data removed]",
      "text/plain": [
       "<Figure size 640x480 with 1 Axes>"
      ]
     },
     "metadata": {},
     "output_type": "display_data"
    }
   ],
   "source": [
    "plt.scatter(xtrain[:, 0], ytrain)\n",
    "#Age"
   ]
  },
  {
   "cell_type": "code",
   "execution_count": 18,
   "id": "0430d573",
   "metadata": {
    "scrolled": false
   },
   "outputs": [
    {
     "data": {
      "text/plain": [
       "<matplotlib.collections.PathCollection at 0x22a8f4c5d90>"
      ]
     },
     "execution_count": 18,
     "metadata": {},
     "output_type": "execute_result"
    },
    {
     "data": {
      "image/png": "[encoded data removed]",
      "text/plain": [
       "<Figure size 640x480 with 1 Axes>"
      ]
     },
     "metadata": {},
     "output_type": "display_data"
    }
   ],
   "source": [
    "plt.scatter(xtrain[:, 1], ytrain)  \n",
    "# Salary"
   ]
  }
 ],
 "metadata": {
  "kernelspec": {
   "display_name": "Python 3 (ipykernel)",
   "language": "python",
   "name": "python3"
  },
  "language_info": {
   "codemirror_mode": {
    "name": "ipython",
    "version": 3
   },
   "file_extension": ".py",
   "mimetype": "text/x-python",
   "name": "python",
   "nbconvert_exporter": "python",
   "pygments_lexer": "ipython3",
   "version": "3.9.13"
  }
 },
 "nbformat": 4,
 "nbformat_minor": 5
}
